{
 "cells": [
  {
   "cell_type": "code",
   "execution_count": 10,
   "metadata": {
    "collapsed": false
   },
   "outputs": [
    {
     "name": "stdout",
     "output_type": "stream",
     "text": [
      "1 is Odd\n",
      "2 is even\n",
      "4 is even\n",
      "6 is even\n",
      "7 is Odd\n",
      "9 is Odd\n"
     ]
    }
   ],
   "source": [
    "import numpy as np\n",
    "a = [1,2,4,6,7,9]\n",
    "\n",
    "for i in a:\n",
    "    if i%2 == 0:\n",
    "        print( str(i) + \" is even\")\n",
    "    if i%2 != 0:\n",
    "        print( str(i) + \" is Odd\")\n",
    "        "
   ]
  },
  {
   "cell_type": "code",
   "execution_count": null,
   "metadata": {
    "collapsed": true
   },
   "outputs": [],
   "source": []
  }
 ],
 "metadata": {
  "kernelspec": {
   "display_name": "Python 2",
   "language": "python",
   "name": "python2"
  },
  "language_info": {
   "codemirror_mode": {
    "name": "ipython",
    "version": 2
   },
   "file_extension": ".py",
   "mimetype": "text/x-python",
   "name": "python",
   "nbconvert_exporter": "python",
   "pygments_lexer": "ipython2",
   "version": "2.7.11"
  }
 },
 "nbformat": 4,
 "nbformat_minor": 0
}
