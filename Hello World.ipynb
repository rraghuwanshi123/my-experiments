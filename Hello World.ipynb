{
 "cells": [
  {
   "cell_type": "markdown",
   "metadata": {
    "deletable": true,
    "editable": true
   },
   "source": [
    "# Mean, Median, Mode, and introducing NumPy"
   ]
  },
  {
   "cell_type": "markdown",
   "metadata": {
    "deletable": true,
    "editable": true
   },
   "source": [
    "## Mean vs. Median"
   ]
  },
  {
   "cell_type": "markdown",
   "metadata": {
    "deletable": true,
    "editable": true
   },
   "source": [
    "Let's create some fake income data, centered around 27,000 with a normal distribution and standard deviation of 15,000, with 10,000 data points. (We'll discuss those terms more later, if you're not familiar with them.)\n",
    "\n",
    "Then, compute the mean (average) - it should be close to 27,000:"
   ]
  },
  {
   "cell_type": "code",
   "execution_count": 4,
   "metadata": {
    "collapsed": false,
    "deletable": true,
    "editable": true
   },
   "outputs": [
    {
     "name": "stdout",
     "output_type": "stream",
     "text": [
      "[ 13461.89516134  49174.95158849  26551.42327334 ...,  36006.12520302\n",
      "  38769.5999359   27464.31036878]\n"
     ]
    },
    {
     "data": {
      "text/plain": [
       "27421.855310011812"
      ]
     },
     "execution_count": 4,
     "metadata": {},
     "output_type": "execute_result"
    }
   ],
   "source": [
    "import numpy as np\n",
    "\n",
    "incomes = np.random.normal(27000, 15000, 10000)\n",
    "print incomes\n",
    "np.mean(incomes)"
   ]
  },
  {
   "cell_type": "markdown",
   "metadata": {
    "deletable": true,
    "editable": true
   },
   "source": [
    "We can segment the income data into 50 buckets, and plot it as a histogram:"
   ]
  },
  {
   "cell_type": "code",
   "execution_count": 5,
   "metadata": {
    "collapsed": false,
    "deletable": true,
    "editable": true
   },
   "outputs": [
    {
     "data": {
      "image/png": "[encoded data removed]",
      "text/plain": [
       "<matplotlib.figure.Figure at 0x404e6d8>"
      ]
     },
     "metadata": {},
     "output_type": "display_data"
    }
   ],
   "source": [
    "%matplotlib inline\n",
    "import matplotlib.pyplot as plt\n",
    "plt.hist(incomes, 50)\n",
    "plt.show()"
   ]
  },
  {
   "cell_type": "markdown",
   "metadata": {
    "deletable": true,
    "editable": true
   },
   "source": [
    "Now compute the median - since we have a nice, even distribution it too should be close to 27,000:"
   ]
  },
  {
   "cell_type": "code",
   "execution_count": 6,
   "metadata": {
    "collapsed": false,
    "deletable": true,
    "editable": true
   },
   "outputs": [
    {
     "data": {
      "text/plain": [
       "27464.772736764484"
      ]
     },
     "execution_count": 6,
     "metadata": {},
     "output_type": "execute_result"
    }
   ],
   "source": [
    "np.median(incomes)"
   ]
  },
  {
   "cell_type": "markdown",
   "metadata": {
    "deletable": true,
    "editable": true
   },
   "source": [
    "Now we'll add Donald Trump into the mix. Darn income inequality!"
   ]
  },
  {
   "cell_type": "code",
   "execution_count": 9,
   "metadata": {
    "collapsed": false,
    "deletable": true,
    "editable": true
   },
   "outputs": [
    {
     "name": "stdout",
     "output_type": "stream",
     "text": [
      "[  1.34618952e+04   4.91749516e+04   2.65514233e+04 ...,   1.00000000e+09\n",
      "   1.00000000e+09   1.00000000e+09]\n"
     ]
    }
   ],
   "source": [
    "incomes = np.append(incomes, [1000000000])\n",
    "print incomes"
   ]
  },
  {
   "cell_type": "markdown",
   "metadata": {
    "deletable": true,
    "editable": true
   },
   "source": [
    "The median won't change much, but the mean does:"
   ]
  },
  {
   "cell_type": "code",
   "execution_count": 5,
   "metadata": {
    "collapsed": false,
    "deletable": true,
    "editable": true
   },
   "outputs": [
    {
     "data": {
      "text/plain": [
       "27195.884278535214"
      ]
     },
     "execution_count": 5,
     "metadata": {},
     "output_type": "execute_result"
    }
   ],
   "source": [
    "np.median(incomes)"
   ]
  },
  {
   "cell_type": "code",
   "execution_count": 6,
   "metadata": {
    "collapsed": false,
    "deletable": true,
    "editable": true
   },
   "outputs": [
    {
     "data": {
      "text/plain": [
       "126993.93098257863"
      ]
     },
     "execution_count": 6,
     "metadata": {},
     "output_type": "execute_result"
    }
   ],
   "source": [
    "np.mean(incomes)"
   ]
  },
  {
   "cell_type": "markdown",
   "metadata": {
    "deletable": true,
    "editable": true
   },
   "source": [
    "## Mode"
   ]
  },
  {
   "cell_type": "markdown",
   "metadata": {
    "deletable": true,
    "editable": true
   },
   "source": [
    "Next, let's generate some fake age data for 500 people:"
   ]
  },
  {
   "cell_type": "code",
   "execution_count": 11,
   "metadata": {
    "collapsed": false,
    "deletable": true,
    "editable": true
   },
   "outputs": [
    {
     "data": {
      "text/plain": [
       "array([22, 46, 30, 22, 19, 42, 43, 24, 35, 44, 20, 47, 33, 31, 25, 38, 33,\n",
       "       43, 31, 24, 33, 24, 21, 44, 44, 39, 24, 33, 46, 30, 35, 36, 25, 49,\n",
       "       22, 46, 42, 39, 23, 27, 37, 31, 48, 32, 43, 35, 33, 44, 19, 37, 18,\n",
       "       21, 41, 27, 42, 39, 26, 29, 40, 43, 34, 38, 30, 20, 39, 42, 31, 35,\n",
       "       22, 21, 34, 44, 33, 45, 46, 18, 24, 32, 37, 23, 20, 28, 24, 38, 38,\n",
       "       28, 38, 33, 33, 30, 35, 48, 21, 33, 43, 44, 26, 23, 24, 38, 28, 32,\n",
       "       44, 42, 34, 29, 18, 27, 18, 36, 25, 32, 49, 41, 27, 19, 48, 24, 21,\n",
       "       44, 43, 29, 39, 25, 18, 31, 45, 19, 44, 34, 37, 39, 37, 45, 45, 46,\n",
       "       20, 26, 49, 33, 28, 39, 25, 28, 31, 41, 29, 18, 23, 23, 35, 45, 36,\n",
       "       40, 23, 33, 27, 23, 27, 29, 49, 18, 33, 21, 43, 46, 46, 41, 21, 32,\n",
       "       28, 45, 48, 45, 19, 23, 26, 47, 32, 36, 46, 36, 24, 43, 21, 49, 18,\n",
       "       19, 24, 48, 29, 19, 37, 26, 25, 39, 18, 28, 38, 29, 48, 38, 20, 30,\n",
       "       35, 36, 45, 22, 20, 28, 35, 30, 44, 38, 24, 41, 22, 39, 28, 42, 34,\n",
       "       29, 30, 23, 25, 49, 22, 43, 32, 43, 26, 44, 26, 42, 26, 43, 37, 42,\n",
       "       33, 27, 32, 23, 37, 29, 25, 38, 36, 47, 28, 49, 31, 46, 48, 39, 27,\n",
       "       39, 44, 40, 43, 27, 20, 41, 45, 36, 22, 23, 46, 37, 45, 40, 45, 36,\n",
       "       24, 37, 37, 49, 32, 33, 23, 35, 29, 29, 45, 38, 48, 39, 23, 28, 28,\n",
       "       25, 32, 21, 34, 26, 39, 36, 41, 45, 41, 37, 37, 23, 18, 29, 45, 37,\n",
       "       32, 22, 44, 30, 47, 25, 18, 21, 44, 35, 22, 41, 43, 22, 46, 33, 22,\n",
       "       25, 37, 34, 32, 31, 35, 28, 42, 23, 20, 31, 26, 30, 22, 32, 37, 35,\n",
       "       48, 43, 26, 49, 18, 31, 44, 33, 35, 31, 47, 28, 18, 40, 27, 38, 18,\n",
       "       37, 25, 37, 36, 22, 41, 21, 27, 33, 24, 45, 26, 44, 21, 35, 36, 38,\n",
       "       25, 44, 20, 37, 43, 44, 49, 29, 39, 36, 29, 46, 44, 44, 34, 27, 24,\n",
       "       38, 39, 49, 32, 25, 24, 27, 36, 40, 20, 39, 36, 20, 38, 28, 48, 35,\n",
       "       43, 18, 18, 21, 22, 47, 25, 36, 29, 39, 29, 35, 39, 48, 33, 32, 34,\n",
       "       18, 42, 22, 22, 34, 38, 42, 38, 26, 22, 39, 49, 18, 35, 45, 31, 28,\n",
       "       26, 20, 25, 22, 34, 19, 36, 38, 27, 18, 19, 37, 42, 25, 21, 36, 43,\n",
       "       30, 45, 24, 41, 24, 26, 37, 22, 33, 46, 44, 48, 39, 22, 21, 36, 40,\n",
       "       47, 48, 34, 32, 49, 43, 34, 33, 49, 47, 40, 35, 30, 30, 34, 32, 29,\n",
       "       49, 19, 26, 31, 24, 32, 32])"
      ]
     },
     "execution_count": 11,
     "metadata": {},
     "output_type": "execute_result"
    }
   ],
   "source": [
    "ages = np.random.randint(18, high=50, size=500)\n",
    "ages"
   ]
  },
  {
   "cell_type": "code",
   "execution_count": 12,
   "metadata": {
    "collapsed": false,
    "deletable": true,
    "editable": true
   },
   "outputs": [
    {
     "data": {
      "text/plain": [
       "ModeResult(mode=array([22]), count=array([21]))"
      ]
     },
     "execution_count": 12,
     "metadata": {},
     "output_type": "execute_result"
    }
   ],
   "source": [
    "from scipy import stats\n",
    "stats.mode(ages)"
   ]
  },
  {
   "cell_type": "code",
   "execution_count": null,
   "metadata": {
    "collapsed": false,
    "deletable": true,
    "editable": true
   },
   "outputs": [],
   "source": []
  }
 ],
 "metadata": {
  "kernelspec": {
   "display_name": "Python 2",
   "language": "python",
   "name": "python2"
  },
  "language_info": {
   "codemirror_mode": {
    "name": "ipython",
    "version": 2
   },
   "file_extension": ".py",
   "mimetype": "text/x-python",
   "name": "python",
   "nbconvert_exporter": "python",
   "pygments_lexer": "ipython2",
   "version": "2.7.11"
  }
 },
 "nbformat": 4,
 "nbformat_minor": 0
}
