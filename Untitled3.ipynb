{
 "cells": [
  {
   "cell_type": "code",
   "execution_count": 46,
   "metadata": {
    "collapsed": false
   },
   "outputs": [
    {
     "name": "stdout",
     "output_type": "stream",
     "text": [
      "1 is Odd\n",
      "2 is even\n",
      "4 is even\n",
      "6 is even\n",
      "7 is Odd\n",
      "9 is Odd\n"
     ]
    }
   ],
   "source": [
    "import numpy as np\n",
    "x = [1,2,4,6,7,9]\n",
    "\n",
    "for i in x:\n",
    "    if i%2 == 0:\n",
    "        print( str(i) + \" is even\")\n",
    "    if i%2 != 0:\n",
    "        print( str(i) + \" is Odd\")\n",
    "        "
   ]
  },
  {
   "cell_type": "code",
   "execution_count": 47,
   "metadata": {
    "collapsed": false
   },
   "outputs": [
    {
     "name": "stdout",
     "output_type": "stream",
     "text": [
      "30.0913924271\n",
      "31.559844383\n",
      "3.13011619389\n"
     ]
    }
   ],
   "source": [
    "import numpy as np\n",
    "a = np.random.normal(30,4,10)\n",
    "\n",
    "print np.mean(a)\n",
    "print np.median(a)\n",
    "print np.std(a)"
   ]
  },
  {
   "cell_type": "code",
   "execution_count": 55,
   "metadata": {
    "collapsed": false,
    "scrolled": true
   },
   "outputs": [],
   "source": [
    "x.append(99)"
   ]
  },
  {
   "cell_type": "code",
   "execution_count": 58,
   "metadata": {
    "collapsed": false
   },
   "outputs": [
    {
     "name": "stdout",
     "output_type": "stream",
     "text": [
      "[1, 2, 4, 6, 7, 9, 99, 99, 99, 12, 56, 89, 12, 56, 89]\n"
     ]
    }
   ],
   "source": [
    "x[:5]\n",
    "x[-3:]\n",
    "x.extend([12,56,89])\n",
    "print x"
   ]
  },
  {
   "cell_type": "markdown",
   "metadata": {},
   "source": [
    "# This is list"
   ]
  },
  {
   "cell_type": "code",
   "execution_count": null,
   "metadata": {
    "collapsed": true
   },
   "outputs": [],
   "source": [
    "Hi"
   ]
  }
 ],
 "metadata": {
  "celltoolbar": "Raw Cell Format",
  "kernelspec": {
   "display_name": "Python 2",
   "language": "python",
   "name": "python2"
  },
  "language_info": {
   "codemirror_mode": {
    "name": "ipython",
    "version": 2
   },
   "file_extension": ".py",
   "mimetype": "text/x-python",
   "name": "python",
   "nbconvert_exporter": "python",
   "pygments_lexer": "ipython2",
   "version": "2.7.11"
  }
 },
 "nbformat": 4,
 "nbformat_minor": 0
}
